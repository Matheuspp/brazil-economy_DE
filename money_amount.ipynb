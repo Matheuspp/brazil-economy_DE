{
 "cells": [
  {
   "cell_type": "code",
   "execution_count": 1,
   "metadata": {},
   "outputs": [],
   "source": [
    "# importing libraries needed\n",
    "import numpy as np\n",
    "import pandas as pd\n",
    "import matplotlib.pyplot as plt"
   ]
  },
  {
   "cell_type": "code",
   "execution_count": 2,
   "metadata": {},
   "outputs": [],
   "source": [
    "# reading data from a json file usin pandas\n",
    "df = pd.read_json(\"BC_data/Informações Diárias Detalhado.json\")"
   ]
  },
  {
   "cell_type": "code",
   "execution_count": 3,
   "metadata": {},
   "outputs": [
    {
     "data": {
      "text/html": [
       "<div>\n",
       "<style scoped>\n",
       "    .dataframe tbody tr th:only-of-type {\n",
       "        vertical-align: middle;\n",
       "    }\n",
       "\n",
       "    .dataframe tbody tr th {\n",
       "        vertical-align: top;\n",
       "    }\n",
       "\n",
       "    .dataframe thead th {\n",
       "        text-align: right;\n",
       "    }\n",
       "</style>\n",
       "<table border=\"1\" class=\"dataframe\">\n",
       "  <thead>\n",
       "    <tr style=\"text-align: right;\">\n",
       "      <th></th>\n",
       "      <th>@odata.context</th>\n",
       "      <th>value</th>\n",
       "    </tr>\n",
       "  </thead>\n",
       "  <tbody>\n",
       "    <tr>\n",
       "      <th>0</th>\n",
       "      <td>https://was-p.bcnet.bcb.gov.br/olinda/servico/...</td>\n",
       "      <td>{'Data': '1994-11-22', 'Quantidade': 204914511...</td>\n",
       "    </tr>\n",
       "    <tr>\n",
       "      <th>1</th>\n",
       "      <td>https://was-p.bcnet.bcb.gov.br/olinda/servico/...</td>\n",
       "      <td>{'Data': '2019-09-13', 'Quantidade': 120033288...</td>\n",
       "    </tr>\n",
       "    <tr>\n",
       "      <th>2</th>\n",
       "      <td>https://was-p.bcnet.bcb.gov.br/olinda/servico/...</td>\n",
       "      <td>{'Data': '2019-09-13', 'Quantidade': 539298143...</td>\n",
       "    </tr>\n",
       "    <tr>\n",
       "      <th>3</th>\n",
       "      <td>https://was-p.bcnet.bcb.gov.br/olinda/servico/...</td>\n",
       "      <td>{'Data': '2019-09-13', 'Quantidade': 568115914...</td>\n",
       "    </tr>\n",
       "    <tr>\n",
       "      <th>4</th>\n",
       "      <td>https://was-p.bcnet.bcb.gov.br/olinda/servico/...</td>\n",
       "      <td>{'Data': '2019-09-13', 'Quantidade': 266150993...</td>\n",
       "    </tr>\n",
       "  </tbody>\n",
       "</table>\n",
       "</div>"
      ],
      "text/plain": [
       "                                      @odata.context  \\\n",
       "0  https://was-p.bcnet.bcb.gov.br/olinda/servico/...   \n",
       "1  https://was-p.bcnet.bcb.gov.br/olinda/servico/...   \n",
       "2  https://was-p.bcnet.bcb.gov.br/olinda/servico/...   \n",
       "3  https://was-p.bcnet.bcb.gov.br/olinda/servico/...   \n",
       "4  https://was-p.bcnet.bcb.gov.br/olinda/servico/...   \n",
       "\n",
       "                                               value  \n",
       "0  {'Data': '1994-11-22', 'Quantidade': 204914511...  \n",
       "1  {'Data': '2019-09-13', 'Quantidade': 120033288...  \n",
       "2  {'Data': '2019-09-13', 'Quantidade': 539298143...  \n",
       "3  {'Data': '2019-09-13', 'Quantidade': 568115914...  \n",
       "4  {'Data': '2019-09-13', 'Quantidade': 266150993...  "
      ]
     },
     "execution_count": 3,
     "metadata": {},
     "output_type": "execute_result"
    }
   ],
   "source": [
    "df.head(5) # showing the first 5 lines"
   ]
  },
  {
   "cell_type": "code",
   "execution_count": 4,
   "metadata": {},
   "outputs": [
    {
     "data": {
      "text/plain": [
       "0    {'Data': '1994-11-22', 'Quantidade': 204914511...\n",
       "1    {'Data': '2019-09-13', 'Quantidade': 120033288...\n",
       "2    {'Data': '2019-09-13', 'Quantidade': 539298143...\n",
       "3    {'Data': '2019-09-13', 'Quantidade': 568115914...\n",
       "4    {'Data': '2019-09-13', 'Quantidade': 266150993...\n",
       "Name: value, dtype: object"
      ]
     },
     "execution_count": 4,
     "metadata": {},
     "output_type": "execute_result"
    }
   ],
   "source": [
    "# we are interested on value column\n",
    "df.value.head(5)"
   ]
  },
  {
   "cell_type": "markdown",
   "metadata": {},
   "source": [
    "# Understanding the data"
   ]
  },
  {
   "cell_type": "markdown",
   "metadata": {},
   "source": [
    "Outstanding Money\n",
    "\n",
    "Daily records of the number of banknotes and coins in circulation (commemorative coins are not included). The information is separated for each species (banknote or currency), family (category) and denomination of the Real (symbols: R $, BRL).\n",
    "\n",
    "Data link: [central bank ](https://dadosabertos.bcb.gov.br/dataset/dinheiro-em-circulao)\n"
   ]
  },
  {
   "cell_type": "code",
   "execution_count": 5,
   "metadata": {},
   "outputs": [
    {
     "data": {
      "text/plain": [
       "array([{'Data': '1994-11-22', 'Quantidade': 204914511, 'Valor': 1024572555.0, 'Categoria': 'Cédulas - 1a. família', 'Denominacao': '5.00', 'Especie': 'Cédulas'},\n",
       "       {'Data': '2019-09-13', 'Quantidade': 1200332884, 'Valor': 12003328.84, 'Categoria': 'Moedas - 2a. Família', 'Denominacao': '0.01', 'Especie': 'Moedas'},\n",
       "       {'Data': '2019-09-13', 'Quantidade': 5392981432, 'Valor': 269649071.6, 'Categoria': 'Moedas - 2a. Família', 'Denominacao': '0.05', 'Especie': 'Moedas'},\n",
       "       {'Data': '2019-09-13', 'Quantidade': 5681159148, 'Valor': 568115914.8, 'Categoria': 'Moedas - 2a. Família', 'Denominacao': '0.10', 'Especie': 'Moedas'},\n",
       "       {'Data': '2019-09-13', 'Quantidade': 2661509938, 'Valor': 665377484.5, 'Categoria': 'Moedas - 2a. Família', 'Denominacao': '0.25', 'Especie': 'Moedas'}],\n",
       "      dtype=object)"
      ]
     },
     "execution_count": 5,
     "metadata": {},
     "output_type": "execute_result"
    }
   ],
   "source": [
    "# getting some overview\n",
    "df.value.head(5).values\n"
   ]
  },
  {
   "cell_type": "code",
   "execution_count": 6,
   "metadata": {},
   "outputs": [
    {
     "data": {
      "text/plain": [
       "152822"
      ]
     },
     "execution_count": 6,
     "metadata": {},
     "output_type": "execute_result"
    }
   ],
   "source": [
    "df.value.count()"
   ]
  },
  {
   "cell_type": "code",
   "execution_count": 7,
   "metadata": {},
   "outputs": [
    {
     "data": {
      "text/html": [
       "<div>\n",
       "<style scoped>\n",
       "    .dataframe tbody tr th:only-of-type {\n",
       "        vertical-align: middle;\n",
       "    }\n",
       "\n",
       "    .dataframe tbody tr th {\n",
       "        vertical-align: top;\n",
       "    }\n",
       "\n",
       "    .dataframe thead th {\n",
       "        text-align: right;\n",
       "    }\n",
       "</style>\n",
       "<table border=\"1\" class=\"dataframe\">\n",
       "  <thead>\n",
       "    <tr style=\"text-align: right;\">\n",
       "      <th></th>\n",
       "      <th>@odata.context</th>\n",
       "      <th>value</th>\n",
       "    </tr>\n",
       "  </thead>\n",
       "  <tbody>\n",
       "    <tr>\n",
       "      <th>0</th>\n",
       "      <td>False</td>\n",
       "      <td>False</td>\n",
       "    </tr>\n",
       "    <tr>\n",
       "      <th>1</th>\n",
       "      <td>False</td>\n",
       "      <td>False</td>\n",
       "    </tr>\n",
       "    <tr>\n",
       "      <th>2</th>\n",
       "      <td>False</td>\n",
       "      <td>False</td>\n",
       "    </tr>\n",
       "    <tr>\n",
       "      <th>3</th>\n",
       "      <td>False</td>\n",
       "      <td>False</td>\n",
       "    </tr>\n",
       "    <tr>\n",
       "      <th>4</th>\n",
       "      <td>False</td>\n",
       "      <td>False</td>\n",
       "    </tr>\n",
       "    <tr>\n",
       "      <th>5</th>\n",
       "      <td>False</td>\n",
       "      <td>False</td>\n",
       "    </tr>\n",
       "    <tr>\n",
       "      <th>6</th>\n",
       "      <td>False</td>\n",
       "      <td>False</td>\n",
       "    </tr>\n",
       "    <tr>\n",
       "      <th>7</th>\n",
       "      <td>False</td>\n",
       "      <td>False</td>\n",
       "    </tr>\n",
       "    <tr>\n",
       "      <th>8</th>\n",
       "      <td>False</td>\n",
       "      <td>False</td>\n",
       "    </tr>\n",
       "    <tr>\n",
       "      <th>9</th>\n",
       "      <td>False</td>\n",
       "      <td>False</td>\n",
       "    </tr>\n",
       "    <tr>\n",
       "      <th>10</th>\n",
       "      <td>False</td>\n",
       "      <td>False</td>\n",
       "    </tr>\n",
       "    <tr>\n",
       "      <th>11</th>\n",
       "      <td>False</td>\n",
       "      <td>False</td>\n",
       "    </tr>\n",
       "    <tr>\n",
       "      <th>12</th>\n",
       "      <td>False</td>\n",
       "      <td>False</td>\n",
       "    </tr>\n",
       "    <tr>\n",
       "      <th>13</th>\n",
       "      <td>False</td>\n",
       "      <td>False</td>\n",
       "    </tr>\n",
       "    <tr>\n",
       "      <th>14</th>\n",
       "      <td>False</td>\n",
       "      <td>False</td>\n",
       "    </tr>\n",
       "    <tr>\n",
       "      <th>15</th>\n",
       "      <td>False</td>\n",
       "      <td>False</td>\n",
       "    </tr>\n",
       "    <tr>\n",
       "      <th>16</th>\n",
       "      <td>False</td>\n",
       "      <td>False</td>\n",
       "    </tr>\n",
       "    <tr>\n",
       "      <th>17</th>\n",
       "      <td>False</td>\n",
       "      <td>False</td>\n",
       "    </tr>\n",
       "    <tr>\n",
       "      <th>18</th>\n",
       "      <td>False</td>\n",
       "      <td>False</td>\n",
       "    </tr>\n",
       "    <tr>\n",
       "      <th>19</th>\n",
       "      <td>False</td>\n",
       "      <td>False</td>\n",
       "    </tr>\n",
       "    <tr>\n",
       "      <th>20</th>\n",
       "      <td>False</td>\n",
       "      <td>False</td>\n",
       "    </tr>\n",
       "    <tr>\n",
       "      <th>21</th>\n",
       "      <td>False</td>\n",
       "      <td>False</td>\n",
       "    </tr>\n",
       "    <tr>\n",
       "      <th>22</th>\n",
       "      <td>False</td>\n",
       "      <td>False</td>\n",
       "    </tr>\n",
       "    <tr>\n",
       "      <th>23</th>\n",
       "      <td>False</td>\n",
       "      <td>False</td>\n",
       "    </tr>\n",
       "    <tr>\n",
       "      <th>24</th>\n",
       "      <td>False</td>\n",
       "      <td>False</td>\n",
       "    </tr>\n",
       "    <tr>\n",
       "      <th>25</th>\n",
       "      <td>False</td>\n",
       "      <td>False</td>\n",
       "    </tr>\n",
       "    <tr>\n",
       "      <th>26</th>\n",
       "      <td>False</td>\n",
       "      <td>False</td>\n",
       "    </tr>\n",
       "    <tr>\n",
       "      <th>27</th>\n",
       "      <td>False</td>\n",
       "      <td>False</td>\n",
       "    </tr>\n",
       "    <tr>\n",
       "      <th>28</th>\n",
       "      <td>False</td>\n",
       "      <td>False</td>\n",
       "    </tr>\n",
       "    <tr>\n",
       "      <th>29</th>\n",
       "      <td>False</td>\n",
       "      <td>False</td>\n",
       "    </tr>\n",
       "    <tr>\n",
       "      <th>...</th>\n",
       "      <td>...</td>\n",
       "      <td>...</td>\n",
       "    </tr>\n",
       "    <tr>\n",
       "      <th>152792</th>\n",
       "      <td>False</td>\n",
       "      <td>False</td>\n",
       "    </tr>\n",
       "    <tr>\n",
       "      <th>152793</th>\n",
       "      <td>False</td>\n",
       "      <td>False</td>\n",
       "    </tr>\n",
       "    <tr>\n",
       "      <th>152794</th>\n",
       "      <td>False</td>\n",
       "      <td>False</td>\n",
       "    </tr>\n",
       "    <tr>\n",
       "      <th>152795</th>\n",
       "      <td>False</td>\n",
       "      <td>False</td>\n",
       "    </tr>\n",
       "    <tr>\n",
       "      <th>152796</th>\n",
       "      <td>False</td>\n",
       "      <td>False</td>\n",
       "    </tr>\n",
       "    <tr>\n",
       "      <th>152797</th>\n",
       "      <td>False</td>\n",
       "      <td>False</td>\n",
       "    </tr>\n",
       "    <tr>\n",
       "      <th>152798</th>\n",
       "      <td>False</td>\n",
       "      <td>False</td>\n",
       "    </tr>\n",
       "    <tr>\n",
       "      <th>152799</th>\n",
       "      <td>False</td>\n",
       "      <td>False</td>\n",
       "    </tr>\n",
       "    <tr>\n",
       "      <th>152800</th>\n",
       "      <td>False</td>\n",
       "      <td>False</td>\n",
       "    </tr>\n",
       "    <tr>\n",
       "      <th>152801</th>\n",
       "      <td>False</td>\n",
       "      <td>False</td>\n",
       "    </tr>\n",
       "    <tr>\n",
       "      <th>152802</th>\n",
       "      <td>False</td>\n",
       "      <td>False</td>\n",
       "    </tr>\n",
       "    <tr>\n",
       "      <th>152803</th>\n",
       "      <td>False</td>\n",
       "      <td>False</td>\n",
       "    </tr>\n",
       "    <tr>\n",
       "      <th>152804</th>\n",
       "      <td>False</td>\n",
       "      <td>False</td>\n",
       "    </tr>\n",
       "    <tr>\n",
       "      <th>152805</th>\n",
       "      <td>False</td>\n",
       "      <td>False</td>\n",
       "    </tr>\n",
       "    <tr>\n",
       "      <th>152806</th>\n",
       "      <td>False</td>\n",
       "      <td>False</td>\n",
       "    </tr>\n",
       "    <tr>\n",
       "      <th>152807</th>\n",
       "      <td>False</td>\n",
       "      <td>False</td>\n",
       "    </tr>\n",
       "    <tr>\n",
       "      <th>152808</th>\n",
       "      <td>False</td>\n",
       "      <td>False</td>\n",
       "    </tr>\n",
       "    <tr>\n",
       "      <th>152809</th>\n",
       "      <td>False</td>\n",
       "      <td>False</td>\n",
       "    </tr>\n",
       "    <tr>\n",
       "      <th>152810</th>\n",
       "      <td>False</td>\n",
       "      <td>False</td>\n",
       "    </tr>\n",
       "    <tr>\n",
       "      <th>152811</th>\n",
       "      <td>False</td>\n",
       "      <td>False</td>\n",
       "    </tr>\n",
       "    <tr>\n",
       "      <th>152812</th>\n",
       "      <td>False</td>\n",
       "      <td>False</td>\n",
       "    </tr>\n",
       "    <tr>\n",
       "      <th>152813</th>\n",
       "      <td>False</td>\n",
       "      <td>False</td>\n",
       "    </tr>\n",
       "    <tr>\n",
       "      <th>152814</th>\n",
       "      <td>False</td>\n",
       "      <td>False</td>\n",
       "    </tr>\n",
       "    <tr>\n",
       "      <th>152815</th>\n",
       "      <td>False</td>\n",
       "      <td>False</td>\n",
       "    </tr>\n",
       "    <tr>\n",
       "      <th>152816</th>\n",
       "      <td>False</td>\n",
       "      <td>False</td>\n",
       "    </tr>\n",
       "    <tr>\n",
       "      <th>152817</th>\n",
       "      <td>False</td>\n",
       "      <td>False</td>\n",
       "    </tr>\n",
       "    <tr>\n",
       "      <th>152818</th>\n",
       "      <td>False</td>\n",
       "      <td>False</td>\n",
       "    </tr>\n",
       "    <tr>\n",
       "      <th>152819</th>\n",
       "      <td>False</td>\n",
       "      <td>False</td>\n",
       "    </tr>\n",
       "    <tr>\n",
       "      <th>152820</th>\n",
       "      <td>False</td>\n",
       "      <td>False</td>\n",
       "    </tr>\n",
       "    <tr>\n",
       "      <th>152821</th>\n",
       "      <td>False</td>\n",
       "      <td>False</td>\n",
       "    </tr>\n",
       "  </tbody>\n",
       "</table>\n",
       "<p>152822 rows × 2 columns</p>\n",
       "</div>"
      ],
      "text/plain": [
       "        @odata.context  value\n",
       "0                False  False\n",
       "1                False  False\n",
       "2                False  False\n",
       "3                False  False\n",
       "4                False  False\n",
       "5                False  False\n",
       "6                False  False\n",
       "7                False  False\n",
       "8                False  False\n",
       "9                False  False\n",
       "10               False  False\n",
       "11               False  False\n",
       "12               False  False\n",
       "13               False  False\n",
       "14               False  False\n",
       "15               False  False\n",
       "16               False  False\n",
       "17               False  False\n",
       "18               False  False\n",
       "19               False  False\n",
       "20               False  False\n",
       "21               False  False\n",
       "22               False  False\n",
       "23               False  False\n",
       "24               False  False\n",
       "25               False  False\n",
       "26               False  False\n",
       "27               False  False\n",
       "28               False  False\n",
       "29               False  False\n",
       "...                ...    ...\n",
       "152792           False  False\n",
       "152793           False  False\n",
       "152794           False  False\n",
       "152795           False  False\n",
       "152796           False  False\n",
       "152797           False  False\n",
       "152798           False  False\n",
       "152799           False  False\n",
       "152800           False  False\n",
       "152801           False  False\n",
       "152802           False  False\n",
       "152803           False  False\n",
       "152804           False  False\n",
       "152805           False  False\n",
       "152806           False  False\n",
       "152807           False  False\n",
       "152808           False  False\n",
       "152809           False  False\n",
       "152810           False  False\n",
       "152811           False  False\n",
       "152812           False  False\n",
       "152813           False  False\n",
       "152814           False  False\n",
       "152815           False  False\n",
       "152816           False  False\n",
       "152817           False  False\n",
       "152818           False  False\n",
       "152819           False  False\n",
       "152820           False  False\n",
       "152821           False  False\n",
       "\n",
       "[152822 rows x 2 columns]"
      ]
     },
     "execution_count": 7,
     "metadata": {},
     "output_type": "execute_result"
    }
   ],
   "source": [
    "# first, we check if there is any missing value\n",
    "# this step is also called data cleaning\n",
    "df.isnull()"
   ]
  },
  {
   "cell_type": "code",
   "execution_count": 8,
   "metadata": {},
   "outputs": [],
   "source": [
    "df.dropna();"
   ]
  },
  {
   "cell_type": "code",
   "execution_count": 9,
   "metadata": {},
   "outputs": [
    {
     "data": {
      "text/plain": [
       "@odata.context    152822\n",
       "value             152822\n",
       "dtype: int64"
      ]
     },
     "execution_count": 9,
     "metadata": {},
     "output_type": "execute_result"
    }
   ],
   "source": [
    "# as we can see, there is no null value\n",
    "df.count()"
   ]
  },
  {
   "cell_type": "markdown",
   "metadata": {},
   "source": [
    "# The main stuff: Plotting"
   ]
  },
  {
   "cell_type": "code",
   "execution_count": 10,
   "metadata": {},
   "outputs": [],
   "source": [
    "# getting data from values\n",
    "data = df.value.values"
   ]
  },
  {
   "cell_type": "code",
   "execution_count": 11,
   "metadata": {},
   "outputs": [
    {
     "data": {
      "text/plain": [
       "{'Data': '1994-11-22',\n",
       " 'Quantidade': 204914511,\n",
       " 'Valor': 1024572555.0,\n",
       " 'Categoria': 'Cédulas - 1a. família',\n",
       " 'Denominacao': '5.00',\n",
       " 'Especie': 'Cédulas'}"
      ]
     },
     "execution_count": 11,
     "metadata": {},
     "output_type": "execute_result"
    }
   ],
   "source": [
    "data[0] # each element in a numpy array"
   ]
  },
  {
   "cell_type": "code",
   "execution_count": 23,
   "metadata": {},
   "outputs": [],
   "source": [
    "# we can manipulate \"data\" using pandas time series date\n",
    "# and we're gonna need \"Valor\" as well\n",
    "# so we add all values in 2 lists for later manipulation\n",
    "date = []\n",
    "value_amount = []\n",
    "denomination = []\n",
    "quantity = []\n",
    "for i in range(len(data)):\n",
    "    date.append(data[i]['Data'])\n",
    "    value_amount.append(data[i]['Valor'])\n",
    "    denomination.append(data[i]['Denominacao'])\n",
    "    quantity.append(data[i]['Quantidade'])"
   ]
  },
  {
   "cell_type": "code",
   "execution_count": 24,
   "metadata": {},
   "outputs": [],
   "source": [
    "# the dates are unordered, we need to order without losing the value_amount index\n",
    "# there are many ways to do that, but i'm going to transform in a pandas dataframe and sort it from there\n",
    "main_df = pd.DataFrame(np.array([date, value_amount, quantity, denomination]).transpose(), columns=['date', 'value_amount', 'quantity','denomination'])"
   ]
  },
  {
   "cell_type": "code",
   "execution_count": 25,
   "metadata": {},
   "outputs": [
    {
     "data": {
      "text/html": [
       "<div>\n",
       "<style scoped>\n",
       "    .dataframe tbody tr th:only-of-type {\n",
       "        vertical-align: middle;\n",
       "    }\n",
       "\n",
       "    .dataframe tbody tr th {\n",
       "        vertical-align: top;\n",
       "    }\n",
       "\n",
       "    .dataframe thead th {\n",
       "        text-align: right;\n",
       "    }\n",
       "</style>\n",
       "<table border=\"1\" class=\"dataframe\">\n",
       "  <thead>\n",
       "    <tr style=\"text-align: right;\">\n",
       "      <th></th>\n",
       "      <th>date</th>\n",
       "      <th>value_amount</th>\n",
       "      <th>quantity</th>\n",
       "      <th>denomination</th>\n",
       "    </tr>\n",
       "  </thead>\n",
       "  <tbody>\n",
       "    <tr>\n",
       "      <th>0</th>\n",
       "      <td>1994-11-22</td>\n",
       "      <td>1024572555.0</td>\n",
       "      <td>204914511</td>\n",
       "      <td>5.00</td>\n",
       "    </tr>\n",
       "    <tr>\n",
       "      <th>1</th>\n",
       "      <td>2019-09-13</td>\n",
       "      <td>12003328.84</td>\n",
       "      <td>1200332884</td>\n",
       "      <td>0.01</td>\n",
       "    </tr>\n",
       "    <tr>\n",
       "      <th>2</th>\n",
       "      <td>2019-09-13</td>\n",
       "      <td>269649071.6</td>\n",
       "      <td>5392981432</td>\n",
       "      <td>0.05</td>\n",
       "    </tr>\n",
       "    <tr>\n",
       "      <th>3</th>\n",
       "      <td>2019-09-13</td>\n",
       "      <td>568115914.8</td>\n",
       "      <td>5681159148</td>\n",
       "      <td>0.10</td>\n",
       "    </tr>\n",
       "    <tr>\n",
       "      <th>4</th>\n",
       "      <td>2019-09-13</td>\n",
       "      <td>665377484.5</td>\n",
       "      <td>2661509938</td>\n",
       "      <td>0.25</td>\n",
       "    </tr>\n",
       "  </tbody>\n",
       "</table>\n",
       "</div>"
      ],
      "text/plain": [
       "         date  value_amount    quantity denomination\n",
       "0  1994-11-22  1024572555.0   204914511         5.00\n",
       "1  2019-09-13   12003328.84  1200332884         0.01\n",
       "2  2019-09-13   269649071.6  5392981432         0.05\n",
       "3  2019-09-13   568115914.8  5681159148         0.10\n",
       "4  2019-09-13   665377484.5  2661509938         0.25"
      ]
     },
     "execution_count": 25,
     "metadata": {},
     "output_type": "execute_result"
    }
   ],
   "source": [
    "main_df.head()"
   ]
  },
  {
   "cell_type": "code",
   "execution_count": 26,
   "metadata": {},
   "outputs": [],
   "source": [
    "main_df.sort_values(by=\"date\", inplace=True)"
   ]
  },
  {
   "cell_type": "code",
   "execution_count": 27,
   "metadata": {},
   "outputs": [
    {
     "data": {
      "text/html": [
       "<div>\n",
       "<style scoped>\n",
       "    .dataframe tbody tr th:only-of-type {\n",
       "        vertical-align: middle;\n",
       "    }\n",
       "\n",
       "    .dataframe tbody tr th {\n",
       "        vertical-align: top;\n",
       "    }\n",
       "\n",
       "    .dataframe thead th {\n",
       "        text-align: right;\n",
       "    }\n",
       "</style>\n",
       "<table border=\"1\" class=\"dataframe\">\n",
       "  <thead>\n",
       "    <tr style=\"text-align: right;\">\n",
       "      <th></th>\n",
       "      <th>date</th>\n",
       "      <th>value_amount</th>\n",
       "      <th>quantity</th>\n",
       "      <th>denomination</th>\n",
       "    </tr>\n",
       "  </thead>\n",
       "  <tbody>\n",
       "    <tr>\n",
       "      <th>48</th>\n",
       "      <td>1994-10-03</td>\n",
       "      <td>2736309830.0</td>\n",
       "      <td>273630983</td>\n",
       "      <td>10.00</td>\n",
       "    </tr>\n",
       "    <tr>\n",
       "      <th>46</th>\n",
       "      <td>1994-10-03</td>\n",
       "      <td>267853898.0</td>\n",
       "      <td>267853898</td>\n",
       "      <td>1.00</td>\n",
       "    </tr>\n",
       "    <tr>\n",
       "      <th>47</th>\n",
       "      <td>1994-10-03</td>\n",
       "      <td>1264610870.0</td>\n",
       "      <td>252922174</td>\n",
       "      <td>5.00</td>\n",
       "    </tr>\n",
       "    <tr>\n",
       "      <th>49</th>\n",
       "      <td>1994-10-03</td>\n",
       "      <td>1447274300.0</td>\n",
       "      <td>28945486</td>\n",
       "      <td>50.00</td>\n",
       "    </tr>\n",
       "    <tr>\n",
       "      <th>56</th>\n",
       "      <td>1994-10-03</td>\n",
       "      <td>181609358.0</td>\n",
       "      <td>181609358</td>\n",
       "      <td>1.00</td>\n",
       "    </tr>\n",
       "  </tbody>\n",
       "</table>\n",
       "</div>"
      ],
      "text/plain": [
       "          date  value_amount   quantity denomination\n",
       "48  1994-10-03  2736309830.0  273630983        10.00\n",
       "46  1994-10-03   267853898.0  267853898         1.00\n",
       "47  1994-10-03  1264610870.0  252922174         5.00\n",
       "49  1994-10-03  1447274300.0   28945486        50.00\n",
       "56  1994-10-03   181609358.0  181609358         1.00"
      ]
     },
     "execution_count": 27,
     "metadata": {},
     "output_type": "execute_result"
    }
   ],
   "source": [
    "main_df.head() # everything done! ready to plot"
   ]
  },
  {
   "cell_type": "markdown",
   "metadata": {},
   "source": [
    "So, we have data from each day ranging from 1994 to 2020. I'ts a lot of data!\n",
    "\n",
    "I'm gonna groupby year and plot it. The detailed version of each day can be better \n",
    "viewed on d3.js later on.\n",
    "\n",
    "The amount of money in circulation each day is different, it can be influenced by many factors.\n",
    "\n",
    "But i'll take the date 12/31 of each year, just for the sake of the plotting.\n",
    "\n",
    "To do the precise calculation of the amount of money in a day, we need to sum up all different\n",
    "denomination value_amounts\n"
   ]
  },
  {
   "cell_type": "code",
   "execution_count": 187,
   "metadata": {},
   "outputs": [],
   "source": [
    "main_df.to_csv('data_generated/money_amount', index=None)\n"
   ]
  },
  {
   "cell_type": "code",
   "execution_count": 122,
   "metadata": {},
   "outputs": [],
   "source": [
    "def save_years_amount(dataframe, years):\n",
    "    \"\"\"\n",
    "    sums up the value amount and return\n",
    "    all the value_amounts and dates correspondent\n",
    "    \"\"\"\n",
    "    dates = []\n",
    "    amounts = []\n",
    "    \n",
    "    for i in years:\n",
    "        aux = str(i)+'-10-03'\n",
    "        amount = dataframe[dataframe['date'] == aux]\n",
    "        \n",
    "        while amount.empty: \n",
    "            aux = pd.to_datetime(aux) # convert to datetime\n",
    "            plus_1 = pd.Timedelta(1, unit='D') # increase one day\n",
    "            aux = aux + plus_1\n",
    "            amount = dataframe[dataframe['date'] == aux.date().strftime('%Y-%m-%d')] # searching the specified date\n",
    "            \n",
    "        dates.append(str(i))\n",
    "        amounts.append(amount.value_amount.values.astype(np.float).sum())\n",
    "    return dates, amounts\n",
    "        \n",
    "            "
   ]
  },
  {
   "cell_type": "code",
   "execution_count": 161,
   "metadata": {},
   "outputs": [],
   "source": [
    "dates, amounts = save_years_amount(main_df, range(1994, 2020))"
   ]
  },
  {
   "cell_type": "code",
   "execution_count": 185,
   "metadata": {},
   "outputs": [
    {
     "data": {
      "image/png": "[encoded data removed]",
      "text/plain": [
       "<Figure size 1080x504 with 1 Axes>"
      ]
     },
     "metadata": {
      "needs_background": "light"
     },
     "output_type": "display_data"
    }
   ],
   "source": [
    "fig, ax = plt.subplots(figsize=(15, 7))\n",
    "ax.bar(dates, amounts, color=['gray'], edgecolor=['silver'] , linewidth=1)\n",
    "ax.set_ylabel(\"Money amount (R$ BRL)\")\n",
    "ax.set_xlabel(\"Year\")\n",
    "fig.tight_layout()\n",
    "plt.savefig('graphs/money_amount_bar_graph')"
   ]
  },
  {
   "cell_type": "code",
   "execution_count": 183,
   "metadata": {},
   "outputs": [
    {
     "data": {
      "text/plain": [
       "252092767131.06"
      ]
     },
     "execution_count": 183,
     "metadata": {},
     "output_type": "execute_result"
    }
   ],
   "source": [
    "main_df[main_df['date'] == '2019-10-03'].value_amount.values.astype(np.float).sum()"
   ]
  },
  {
   "cell_type": "code",
   "execution_count": null,
   "metadata": {},
   "outputs": [],
   "source": []
  }
 ],
 "metadata": {
  "kernelspec": {
   "display_name": "Python 3",
   "language": "python",
   "name": "python3"
  },
  "language_info": {
   "codemirror_mode": {
    "name": "ipython",
    "version": 3
   },
   "file_extension": ".py",
   "mimetype": "text/x-python",
   "name": "python",
   "nbconvert_exporter": "python",
   "pygments_lexer": "ipython3",
   "version": "3.6.7"
  }
 },
 "nbformat": 4,
 "nbformat_minor": 2
}
