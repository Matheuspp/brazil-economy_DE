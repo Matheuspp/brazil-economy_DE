{
 "cells": [
  {
   "cell_type": "code",
   "execution_count": 7,
   "metadata": {},
   "outputs": [],
   "source": [
    "# importing libraries needed\n",
    "import numpy as np\n",
    "import pandas as pd\n",
    "import matplotlib.pyplot as plt"
   ]
  },
  {
   "cell_type": "code",
   "execution_count": 8,
   "metadata": {},
   "outputs": [],
   "source": [
    "# reading data from a json file usin pandas\n",
    "df = pd.read_json(\"BC_data/Informações Diárias Detalhado.json\")"
   ]
  },
  {
   "cell_type": "code",
   "execution_count": 10,
   "metadata": {},
   "outputs": [
    {
     "data": {
      "text/html": [
       "<div>\n",
       "<style scoped>\n",
       "    .dataframe tbody tr th:only-of-type {\n",
       "        vertical-align: middle;\n",
       "    }\n",
       "\n",
       "    .dataframe tbody tr th {\n",
       "        vertical-align: top;\n",
       "    }\n",
       "\n",
       "    .dataframe thead th {\n",
       "        text-align: right;\n",
       "    }\n",
       "</style>\n",
       "<table border=\"1\" class=\"dataframe\">\n",
       "  <thead>\n",
       "    <tr style=\"text-align: right;\">\n",
       "      <th></th>\n",
       "      <th>@odata.context</th>\n",
       "      <th>value</th>\n",
       "    </tr>\n",
       "  </thead>\n",
       "  <tbody>\n",
       "    <tr>\n",
       "      <th>0</th>\n",
       "      <td>https://was-p.bcnet.bcb.gov.br/olinda/servico/...</td>\n",
       "      <td>{'Data': '1994-11-22', 'Quantidade': 204914511...</td>\n",
       "    </tr>\n",
       "    <tr>\n",
       "      <th>1</th>\n",
       "      <td>https://was-p.bcnet.bcb.gov.br/olinda/servico/...</td>\n",
       "      <td>{'Data': '2019-09-13', 'Quantidade': 120033288...</td>\n",
       "    </tr>\n",
       "    <tr>\n",
       "      <th>2</th>\n",
       "      <td>https://was-p.bcnet.bcb.gov.br/olinda/servico/...</td>\n",
       "      <td>{'Data': '2019-09-13', 'Quantidade': 539298143...</td>\n",
       "    </tr>\n",
       "    <tr>\n",
       "      <th>3</th>\n",
       "      <td>https://was-p.bcnet.bcb.gov.br/olinda/servico/...</td>\n",
       "      <td>{'Data': '2019-09-13', 'Quantidade': 568115914...</td>\n",
       "    </tr>\n",
       "    <tr>\n",
       "      <th>4</th>\n",
       "      <td>https://was-p.bcnet.bcb.gov.br/olinda/servico/...</td>\n",
       "      <td>{'Data': '2019-09-13', 'Quantidade': 266150993...</td>\n",
       "    </tr>\n",
       "  </tbody>\n",
       "</table>\n",
       "</div>"
      ],
      "text/plain": [
       "                                      @odata.context  \\\n",
       "0  https://was-p.bcnet.bcb.gov.br/olinda/servico/...   \n",
       "1  https://was-p.bcnet.bcb.gov.br/olinda/servico/...   \n",
       "2  https://was-p.bcnet.bcb.gov.br/olinda/servico/...   \n",
       "3  https://was-p.bcnet.bcb.gov.br/olinda/servico/...   \n",
       "4  https://was-p.bcnet.bcb.gov.br/olinda/servico/...   \n",
       "\n",
       "                                               value  \n",
       "0  {'Data': '1994-11-22', 'Quantidade': 204914511...  \n",
       "1  {'Data': '2019-09-13', 'Quantidade': 120033288...  \n",
       "2  {'Data': '2019-09-13', 'Quantidade': 539298143...  \n",
       "3  {'Data': '2019-09-13', 'Quantidade': 568115914...  \n",
       "4  {'Data': '2019-09-13', 'Quantidade': 266150993...  "
      ]
     },
     "execution_count": 10,
     "metadata": {},
     "output_type": "execute_result"
    }
   ],
   "source": [
    "df.head(5) # showing the first 5 lines"
   ]
  },
  {
   "cell_type": "code",
   "execution_count": 11,
   "metadata": {},
   "outputs": [
    {
     "data": {
      "text/plain": [
       "0    {'Data': '1994-11-22', 'Quantidade': 204914511...\n",
       "1    {'Data': '2019-09-13', 'Quantidade': 120033288...\n",
       "2    {'Data': '2019-09-13', 'Quantidade': 539298143...\n",
       "3    {'Data': '2019-09-13', 'Quantidade': 568115914...\n",
       "4    {'Data': '2019-09-13', 'Quantidade': 266150993...\n",
       "Name: value, dtype: object"
      ]
     },
     "execution_count": 11,
     "metadata": {},
     "output_type": "execute_result"
    }
   ],
   "source": [
    "# we are interested on value column\n",
    "df.value.head(5)"
   ]
  },
  {
   "cell_type": "markdown",
   "metadata": {},
   "source": [
    "# Understanding the data"
   ]
  },
  {
   "cell_type": "code",
   "execution_count": null,
   "metadata": {},
   "outputs": [],
   "source": []
  }
 ],
 "metadata": {
  "kernelspec": {
   "display_name": "Python 3",
   "language": "python",
   "name": "python3"
  },
  "language_info": {
   "codemirror_mode": {
    "name": "ipython",
    "version": 3
   },
   "file_extension": ".py",
   "mimetype": "text/x-python",
   "name": "python",
   "nbconvert_exporter": "python",
   "pygments_lexer": "ipython3",
   "version": "3.6.7"
  }
 },
 "nbformat": 4,
 "nbformat_minor": 2
}
