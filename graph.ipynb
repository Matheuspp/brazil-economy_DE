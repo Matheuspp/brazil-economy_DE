{
 "cells": [
  {
   "cell_type": "code",
   "execution_count": 1,
   "metadata": {},
   "outputs": [],
   "source": [
    "import numpy as np\n",
    "import pandas as pd\n",
    "import matplotlib.pyplot as plt"
   ]
  },
  {
   "cell_type": "code",
   "execution_count": 2,
   "metadata": {},
   "outputs": [],
   "source": [
    "df = pd.read_json(\"BC_data/Informações Diárias Detalhado.json\")"
   ]
  },
  {
   "cell_type": "code",
   "execution_count": 6,
   "metadata": {},
   "outputs": [
    {
     "data": {
      "text/plain": [
       "0         {'Data': '1994-11-22', 'Quantidade': 204914511...\n",
       "1         {'Data': '2019-09-13', 'Quantidade': 120033288...\n",
       "2         {'Data': '2019-09-13', 'Quantidade': 539298143...\n",
       "3         {'Data': '2019-09-13', 'Quantidade': 568115914...\n",
       "4         {'Data': '2019-09-13', 'Quantidade': 266150993...\n",
       "5         {'Data': '2019-09-13', 'Quantidade': 256753104...\n",
       "6         {'Data': '2019-09-13', 'Quantidade': 315222517...\n",
       "7         {'Data': '2019-09-13', 'Quantidade': 3508356, ...\n",
       "8         {'Data': '2019-09-13', 'Quantidade': 148761504...\n",
       "9         {'Data': '2019-09-13', 'Quantidade': 151965810...\n",
       "10        {'Data': '2019-09-13', 'Quantidade': 74776157,...\n",
       "11        {'Data': '2019-09-13', 'Quantidade': 56779426,...\n",
       "12        {'Data': '2019-09-13', 'Quantidade': 88567252,...\n",
       "13        {'Data': '2019-09-13', 'Quantidade': 104935415...\n",
       "14        {'Data': '2019-09-13', 'Quantidade': 20515891,...\n",
       "15        {'Data': '2019-09-13', 'Quantidade': 199084895...\n",
       "16        {'Data': '2019-09-13', 'Quantidade': 131952359...\n",
       "17        {'Data': '2019-09-13', 'Quantidade': 140060021...\n",
       "18        {'Data': '2019-09-13', 'Quantidade': 425889970...\n",
       "19        {'Data': '2019-09-13', 'Quantidade': 481817662...\n",
       "20        {'Data': '2019-09-13', 'Quantidade': 35421534,...\n",
       "21        {'Data': '2019-09-13', 'Quantidade': 117120599...\n",
       "22        {'Data': '2019-09-13', 'Quantidade': 490890433...\n",
       "23        {'Data': '2019-09-13', 'Quantidade': 509908158...\n",
       "24        {'Data': '2019-09-13', 'Quantidade': 572173814...\n",
       "25        {'Data': '2019-09-13', 'Quantidade': 180815800...\n",
       "26        {'Data': '2019-09-13', 'Quantidade': 116958153...\n",
       "27        {'Data': '2019-09-13', 'Quantidade': 1995700, ...\n",
       "28        {'Data': '2019-09-13', 'Quantidade': 19980000,...\n",
       "29        {'Data': '2019-09-13', 'Quantidade': 19980000,...\n",
       "                                ...                        \n",
       "152792    {'Data': '2020-03-06', 'Quantidade': 425889652...\n",
       "152793    {'Data': '2020-03-06', 'Quantidade': 481817616...\n",
       "152794    {'Data': '2020-03-06', 'Quantidade': 35421534,...\n",
       "152795    {'Data': '2020-03-06', 'Quantidade': 127062831...\n",
       "152796    {'Data': '2020-03-06', 'Quantidade': 540361018...\n",
       "152797    {'Data': '2020-03-06', 'Quantidade': 518129628...\n",
       "152798    {'Data': '2020-03-06', 'Quantidade': 631267439...\n",
       "152799    {'Data': '2020-03-06', 'Quantidade': 188505509...\n",
       "152800    {'Data': '2020-03-06', 'Quantidade': 131722120...\n",
       "152801    {'Data': '2020-03-06', 'Quantidade': 1995700, ...\n",
       "152802    {'Data': '2020-03-06', 'Quantidade': 19980000,...\n",
       "152803    {'Data': '2020-03-06', 'Quantidade': 19980000,...\n",
       "152804    {'Data': '2020-03-06', 'Quantidade': 19980000,...\n",
       "152805    {'Data': '2020-03-06', 'Quantidade': 19980000,...\n",
       "152806    {'Data': '2020-03-06', 'Quantidade': 19980000,...\n",
       "152807    {'Data': '2020-03-06', 'Quantidade': 19980000,...\n",
       "152808    {'Data': '2020-03-06', 'Quantidade': 19981800,...\n",
       "152809    {'Data': '2020-03-06', 'Quantidade': 19980000,...\n",
       "152810    {'Data': '2020-03-06', 'Quantidade': 19986500,...\n",
       "152811    {'Data': '2020-03-06', 'Quantidade': 19986500,...\n",
       "152812    {'Data': '2020-03-06', 'Quantidade': 19986500,...\n",
       "152813    {'Data': '2020-03-06', 'Quantidade': 19986500,...\n",
       "152814    {'Data': '2020-03-06', 'Quantidade': 19986500,...\n",
       "152815    {'Data': '2020-03-06', 'Quantidade': 19986500,...\n",
       "152816    {'Data': '2020-03-06', 'Quantidade': 19984500,...\n",
       "152817    {'Data': '2020-03-06', 'Quantidade': 19984500,...\n",
       "152818    {'Data': '2020-03-06', 'Quantidade': 50000000,...\n",
       "152819    {'Data': '2020-03-06', 'Quantidade': 23030530,...\n",
       "152820    {'Data': '2020-03-06', 'Quantidade': 81152500,...\n",
       "152821    {'Data': '2020-03-06', 'Quantidade': 31494600,...\n",
       "Name: value, Length: 152822, dtype: object"
      ]
     },
     "execution_count": 6,
     "metadata": {},
     "output_type": "execute_result"
    }
   ],
   "source": [
    "df.value"
   ]
  },
  {
   "cell_type": "code",
   "execution_count": null,
   "metadata": {},
   "outputs": [],
   "source": []
  }
 ],
 "metadata": {
  "kernelspec": {
   "display_name": "Python 3",
   "language": "python",
   "name": "python3"
  },
  "language_info": {
   "codemirror_mode": {
    "name": "ipython",
    "version": 3
   },
   "file_extension": ".py",
   "mimetype": "text/x-python",
   "name": "python",
   "nbconvert_exporter": "python",
   "pygments_lexer": "ipython3",
   "version": "3.6.7"
  }
 },
 "nbformat": 4,
 "nbformat_minor": 2
}
